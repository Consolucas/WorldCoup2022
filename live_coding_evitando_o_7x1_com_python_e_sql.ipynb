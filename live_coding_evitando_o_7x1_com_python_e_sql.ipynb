{
  "cells": [
    {
      "cell_type": "markdown",
      "metadata": {
        "id": "GJm-vq19ibVn"
      },
      "source": [
        "# Evitando o 7x1 com Python e SQL\n",
        "\n",
        "Aprenda na prática a prever o campeão da Copa do Mundo usando ciência de dados, mesmo que você não entenda nada sobre o assunto. Todo código estará disponível neste link do GitHub: \n",
        "\n",
        "**[github.com/digitalinnovationone/live-coding-evitando-o-7x1-com-python-e-sql](https://github.com/digitalinnovationone/live-coding-evitando-o-7x1-com-python-e-sql)**\n",
        "\n",
        "Acesse nossa [*landing page*](https://lp.dio.me/evitando-7x1-com-python-e-sql/) para saber todos os detalhes do evento."
      ]
    },
    {
      "cell_type": "markdown",
      "metadata": {
        "id": "i1-xxLLdEgBE"
      },
      "source": [
        "## 1. Estrutura com os [Grupos e Seleções](https://global.discourse-cdn.com/nubank/original/4X/d/d/b/ddb82274a8785b60d1a19df8aeee768e87091292.jpeg), além de seus respectivos scores ([Ranking FIFA](https://www.ogol.com.br/ranking_fifa.php))"
      ]
    },
    {
      "cell_type": "code",
      "execution_count": null,
      "metadata": {},
      "outputs": [],
      "source": [
        "%pip install pandas "
      ]
    },
    {
      "cell_type": "code",
      "execution_count": 3,
      "metadata": {
        "colab": {
          "base_uri": "https://localhost:8080/",
          "height": 175
        },
        "id": "U1OsqB9oES9m",
        "outputId": "b7aa2808-5fc5-4ef2-e8e8-200aba0d18e2"
      },
      "outputs": [
        {
          "data": {
            "text/html": [
              "<div>\n",
              "<style scoped>\n",
              "    .dataframe tbody tr th:only-of-type {\n",
              "        vertical-align: middle;\n",
              "    }\n",
              "\n",
              "    .dataframe tbody tr th {\n",
              "        vertical-align: top;\n",
              "    }\n",
              "\n",
              "    .dataframe thead th {\n",
              "        text-align: right;\n",
              "    }\n",
              "</style>\n",
              "<table border=\"1\" class=\"dataframe\">\n",
              "  <thead>\n",
              "    <tr style=\"text-align: right;\">\n",
              "      <th></th>\n",
              "      <th>A</th>\n",
              "      <th>B</th>\n",
              "      <th>C</th>\n",
              "      <th>D</th>\n",
              "      <th>E</th>\n",
              "      <th>F</th>\n",
              "      <th>G</th>\n",
              "      <th>H</th>\n",
              "    </tr>\n",
              "  </thead>\n",
              "  <tbody>\n",
              "    <tr>\n",
              "      <th>0</th>\n",
              "      <td>CAT|1442.0</td>\n",
              "      <td>EUA|1635.0</td>\n",
              "      <td>ARG|1770.7</td>\n",
              "      <td>AUS|1483.7</td>\n",
              "      <td>ALE|1659.0</td>\n",
              "      <td>BEL|1821.9</td>\n",
              "      <td>BRA|1837.6</td>\n",
              "      <td>COR|1526.0</td>\n",
              "    </tr>\n",
              "    <tr>\n",
              "      <th>1</th>\n",
              "      <td>EQU|1463.7</td>\n",
              "      <td>ING|1737.5</td>\n",
              "      <td>ARA|1435.7</td>\n",
              "      <td>DIN|1665.5</td>\n",
              "      <td>COS|1500.1</td>\n",
              "      <td>CAN|1473.8</td>\n",
              "      <td>CAM|1485.0</td>\n",
              "      <td>GAN|1393.5</td>\n",
              "    </tr>\n",
              "    <tr>\n",
              "      <th>2</th>\n",
              "      <td>HOL|1679.4</td>\n",
              "      <td>IRA|1558.6</td>\n",
              "      <td>MEX|1649.6</td>\n",
              "      <td>FRA|1764.9</td>\n",
              "      <td>ESP|1716.9</td>\n",
              "      <td>CRO|1632.2</td>\n",
              "      <td>SUI|1621.4</td>\n",
              "      <td>POR|1678.7</td>\n",
              "    </tr>\n",
              "    <tr>\n",
              "      <th>3</th>\n",
              "      <td>SEN|1584.6</td>\n",
              "      <td>GAL|1582.1</td>\n",
              "      <td>POL|1546.2</td>\n",
              "      <td>TUN|1507.9</td>\n",
              "      <td>JAP|1554.7</td>\n",
              "      <td>MAR|1558.4</td>\n",
              "      <td>SER|1549.5</td>\n",
              "      <td>URU|1641.0</td>\n",
              "    </tr>\n",
              "  </tbody>\n",
              "</table>\n",
              "</div>"
            ],
            "text/plain": [
              "            A           B           C           D           E           F  \\\n",
              "0  CAT|1442.0  EUA|1635.0  ARG|1770.7  AUS|1483.7  ALE|1659.0  BEL|1821.9   \n",
              "1  EQU|1463.7  ING|1737.5  ARA|1435.7  DIN|1665.5  COS|1500.1  CAN|1473.8   \n",
              "2  HOL|1679.4  IRA|1558.6  MEX|1649.6  FRA|1764.9  ESP|1716.9  CRO|1632.2   \n",
              "3  SEN|1584.6  GAL|1582.1  POL|1546.2  TUN|1507.9  JAP|1554.7  MAR|1558.4   \n",
              "\n",
              "            G           H  \n",
              "0  BRA|1837.6  COR|1526.0  \n",
              "1  CAM|1485.0  GAN|1393.5  \n",
              "2  SUI|1621.4  POR|1678.7  \n",
              "3  SER|1549.5  URU|1641.0  "
            ]
          },
          "execution_count": 3,
          "metadata": {},
          "output_type": "execute_result"
        }
      ],
      "source": [
        "import pandas as pd\n",
        "\n",
        "df = pd.read_csv('https://raw.githubusercontent.com/digitalinnovationone/live-coding-evitando-o-7x1-com-python-e-sql/main/data.csv')\n",
        "df.head()"
      ]
    },
    {
      "cell_type": "markdown",
      "metadata": {
        "id": "LT5NfOUNwXTa"
      },
      "source": [
        "##2. Classe que representa um time, com suas características e comportamentos:"
      ]
    },
    {
      "cell_type": "code",
      "execution_count": 4,
      "metadata": {
        "id": "jc2iDAOjwEZK"
      },
      "outputs": [],
      "source": [
        "import random\n",
        "\n",
        "class Team:\n",
        "  best_score = 1837.6 # Brasil (BRA)\n",
        "\n",
        "  # TODO: Definir um construtor com os atributos adequados (tendo em vista o conteúdo de uma célula do CSV)\n",
        "  def __init__(self, cellData):\n",
        "    teamData = cellData.split('|')\n",
        "    self.name = teamData[0]\n",
        "    self.score = float(teamData[1])\n",
        "\n",
        "  def motivate(self):\n",
        "    \"\"\" \n",
        "    A pior seleção da copa (GAN, segundo a FIFA) têm 1393.5 de score, o qual equivale a 75% do melhor score (BRA).\n",
        "    Sendo assim, para que a aleatoriedade não seja tão determinante, podemos definir um intervalo inicial próximo de 75.\n",
        "    Por exemplo, GAN poderia ter valores entre 70~75 (aproximadamente). Por outro lado, BRA teria 70~100 (maior chance de vitória).\n",
        "\n",
        "    1837.6 (BRA) ------ 100%\n",
        "    1393.5 (GAN) ------  X\n",
        "    \"\"\"\n",
        "    # TODO: Com base no comentário/insight acima, criar uma lógica para atribuir a motivação ao time.\n",
        "\n",
        "    self.last_motivation = random.uniform(70, (self.score * 100)/ Team.best_score)\n",
        "\n",
        "\n",
        "    return self.last_motivation"
      ]
    },
    {
      "cell_type": "markdown",
      "metadata": {
        "id": "0rJ55ARry6o9"
      },
      "source": [
        "##3. Simulando a Fase de Grupos:"
      ]
    },
    {
      "cell_type": "code",
      "execution_count": 15,
      "metadata": {
        "id": "ZwHNqXF6aGxr"
      },
      "outputs": [
        {
          "name": "stdout",
          "output_type": "stream",
          "text": [
            "Grupo A: HOL (84.68) SEN (81.69) EQU (78.17) CAT (75.78) \n",
            "Grupo B: ING (84.12) IRA (82.60) EUA (80.62) GAL (76.38) \n",
            "Grupo C: ARA (77.87) MEX (77.82) POL (71.57) ARG (70.16) \n",
            "Grupo D: FRA (86.37) DIN (83.88) AUS (72.30) TUN (72.04) \n",
            "Grupo E: ESP (92.46) ALE (83.13) JAP (76.48) COS (72.58) \n",
            "Grupo F: BEL (94.82) CRO (84.01) MAR (75.99) CAN (73.04) \n",
            "Grupo G: BRA (98.11) SUI (85.05) SER (77.37) CAM (76.14) \n",
            "Grupo H: POR (81.16) COR (75.29) GAN (74.74) URU (70.35) \n"
          ]
        }
      ],
      "source": [
        "# Mapa em que a chave será a letra do grupo e o valor as seleções (que ordenaremos pelas \"melhores\").\n",
        "bestTeamsByGroup = {}\n",
        "# Percorre o dataframe (dados do CSV) para criar nossos objetos/seleções.\n",
        "for label, content in df.items():\n",
        "  # print(label)\n",
        "  # print(content)\n",
        "  # TODO: Instanciar as 4 seleções do grupo, com seus respectivos nomes e score.\n",
        "\n",
        "  team1 = Team(content[0])\n",
        "  # inserindo os dados da tabela na variável\n",
        "  team2 = Team(content[1])\n",
        "  team3 = Team(content[2])\n",
        "  team4 = Team(content[3])\n",
        "\n",
        "  # TODO: Simular os melhores do grupo com base na motivação de cada seleção. \n",
        "  #       Calculada a partir do seu ranking FIFA aliado a uma pitada de aleatoriedade.\n",
        "\n",
        "  bestTeamsByGroup[label] = sorted([team1, team2, team3, team4], key=Team.motivate, reverse=True)\n",
        "\n",
        "# TODO: Imprimir os grupos, ordenados pelas melhores seleções de cada (apenas 2 se classificam)\n",
        "\n",
        "for group, motivated_teams in bestTeamsByGroup.items():\n",
        "  print(f'Grupo {group}: ', end='')\n",
        "  for team in motivated_teams:\n",
        "    print(f'{team.name} ({team.last_motivation:.2f}) ', end='')\n",
        "  print()\n",
        "\n"
      ]
    },
    {
      "cell_type": "markdown",
      "metadata": {
        "id": "XdK4ZV0g2pw-"
      },
      "source": [
        "## 4. Simulando as Oitavas de Final (16 melhores seleções)\n"
      ]
    },
    {
      "cell_type": "code",
      "execution_count": 50,
      "metadata": {
        "id": "wdyYgEkV2uhA"
      },
      "outputs": [
        {
          "name": "stdout",
          "output_type": "stream",
          "text": [
            "HOL (72.74) x IRA (78.01)\n",
            "ARA (77.41) x DIN (90.10)\n",
            "ESP (89.98) x CRO (77.79)\n",
            "BRA (84.35) x COR (71.25)\n",
            "SEN (75.28) x ING (94.34)\n",
            "MEX (75.91) x FRA (92.15)\n",
            "ALE (77.57) x BEL (85.46)\n",
            "SUI (75.55) x POR (81.44)\n",
            "84.34929246640553\n"
          ]
        }
      ],
      "source": [
        "# Criando vaiáveis para as 2 melhores seleções de cada grupo:\n",
        "team1A = bestTeamsByGroup['A'][0]\n",
        "team2A = bestTeamsByGroup['A'][1]\n",
        "team1B = bestTeamsByGroup['B'][0]\n",
        "team2B = bestTeamsByGroup['B'][1]\n",
        "team1C = bestTeamsByGroup['C'][0]\n",
        "team2C = bestTeamsByGroup['C'][1]\n",
        "team1D = bestTeamsByGroup['D'][0]\n",
        "team2D = bestTeamsByGroup['D'][1]\n",
        "team1E = bestTeamsByGroup['E'][0]\n",
        "team2E = bestTeamsByGroup['E'][1]\n",
        "team1F = bestTeamsByGroup['F'][0]\n",
        "team2F = bestTeamsByGroup['F'][1]\n",
        "team1G = bestTeamsByGroup['G'][0]\n",
        "team2G = bestTeamsByGroup['G'][1]\n",
        "team1H = bestTeamsByGroup['H'][0]\n",
        "team2H = bestTeamsByGroup['H'][1]\n",
        "\n",
        "# TODO: Simular os confrontos das Oitavas de Final (randomizando novamente suas respectivas motivações).\n",
        "#       Além disso, também definir os classificados para as quartas de final em novas vaiáveis:\n",
        "\n",
        "quarter1 = team1A if team1A.motivate() > team2B.motivate() else team2B\n",
        "# cria a variavel para um participante das quartas, se a motivação for maior que a do outro\n",
        "quarter2 = team1C if team1C.motivate() > team2D.motivate() else team2D\n",
        "quarter3 = team1E if team1E.motivate() > team2F.motivate() else team2F\n",
        "quarter4 = team1G if team1G.motivate() > team2H.motivate() else team2H\n",
        "quarter5 = team2A if team2A.motivate() > team1B.motivate() else team1B\n",
        "quarter6 = team2C if team2C.motivate() > team1D.motivate() else team1D\n",
        "quarter7 = team2E if team2E.motivate() > team1F.motivate() else team1F\n",
        "quarter8 = team2G if team2G.motivate() > team1H.motivate() else team1H\n",
        "\n",
        "\n",
        "#print(quarter1.name)\n",
        "# vendo se funciona\n",
        "# TODO: Imprimir os \"resultados\" dos confrontos realizados nas Oitavas de Final:\n",
        "\n",
        "print(f'{team1A.name} ({team1A.last_motivation:.2f}) x {team2B.name} ({team2B.last_motivation:.2f})')\n",
        "print(f'{team1C.name} ({team1C.last_motivation:.2f}) x {team2D.name} ({team2D.last_motivation:.2f})')\n",
        "print(f'{team1E.name} ({team1E.last_motivation:.2f}) x {team2F.name} ({team2F.last_motivation:.2f})')\n",
        "print(f'{team1G.name} ({team1G.last_motivation:.2f}) x {team2H.name} ({team2H.last_motivation:.2f})')\n",
        "print(f'{team2A.name} ({team2A.last_motivation:.2f}) x {team1B.name} ({team1B.last_motivation:.2f})')\n",
        "print(f'{team2C.name} ({team2C.last_motivation:.2f}) x {team1D.name} ({team1D.last_motivation:.2f})')\n",
        "print(f'{team2E.name} ({team2G.last_motivation:.2f}) x {team1F.name} ({team1F.last_motivation:.2f})')\n",
        "print(f'{team2G.name} ({team2E.last_motivation:.2f}) x {team1H.name} ({team1H.last_motivation:.2f})')\n",
        "\n"
      ]
    },
    {
      "cell_type": "markdown",
      "metadata": {
        "id": "QoplyoqDGFQC"
      },
      "source": [
        "## 5. Simulando as Quartas de Final (8 melhores seleções)"
      ]
    },
    {
      "cell_type": "code",
      "execution_count": 206,
      "metadata": {
        "id": "7PCQCm2BGFfV"
      },
      "outputs": [
        {
          "name": "stdout",
          "output_type": "stream",
          "text": [
            "IRA (79.59) x DIN (78.81)\n",
            "ESP (80.88) x BRA (91.77)\n",
            "ING (82.42) x FRA (81.76)\n",
            "BEL (73.85) x POR (80.97)\n"
          ]
        }
      ],
      "source": [
        "# TODO: Simular os confrontos das Quartas de Final (randomizando novamente suas respectivas motivações).\n",
        "#       Além disso, também definir os classificados para as semifinais em novas vaiáveis:\n",
        "\n",
        "semi1 = quarter1 if quarter1.motivate() > quarter2.motivate() else quarter2\n",
        "semi2 = quarter3 if quarter3.motivate() > quarter4.motivate() else quarter4\n",
        "semi3 = quarter5 if quarter5.motivate() > quarter6.motivate() else quarter6\n",
        "semi4 = quarter7 if quarter7.motivate() > quarter8.motivate() else quarter8\n",
        "\n",
        "\n",
        "# TODO: Imprimir os \"resultados\" dos confrontos realizados nas Quartas de Final:\n",
        "\n",
        "print(f'{quarter1.name} ({quarter1.last_motivation:.2f}) x {quarter2.name} ({quarter2.last_motivation:.2f})')\n",
        "print(f'{quarter3.name} ({quarter3.last_motivation:.2f}) x {quarter4.name} ({quarter4.last_motivation:.2f})')\n",
        "print(f'{quarter5.name} ({quarter5.last_motivation:.2f}) x {quarter6.name} ({quarter6.last_motivation:.2f})')\n",
        "print(f'{quarter7.name} ({quarter7.last_motivation:.2f}) x {quarter8.name} ({quarter8.last_motivation:.2f})')\n"
      ]
    },
    {
      "cell_type": "markdown",
      "metadata": {
        "id": "15JaIEPIIxKO"
      },
      "source": [
        "## 6. Simulando as Semifinais (4 melhores seleções)"
      ]
    },
    {
      "cell_type": "code",
      "execution_count": 247,
      "metadata": {
        "id": "4STt-WtWIxWF"
      },
      "outputs": [
        {
          "name": "stdout",
          "output_type": "stream",
          "text": [
            "IRA (75.20) x BRA (98.74)\n",
            "ING (70.66) x POR (85.21)\n"
          ]
        }
      ],
      "source": [
        "# TODO: Simular os confrontos das Semifinais (randomizando novamente suas respectivas motivações).\n",
        "#       Além disso, também definir os classificados para a final e disputa de 3º e 4º em novas vaiáveis:\n",
        "\n",
        "final1 = semi1 if semi1.motivate() > semi2.motivate() else semi2\n",
        "final2 = semi3 if semi3.motivate() > semi4.motivate() else semi4\n",
        "\n",
        "losers1 = semi1 if semi1.last_motivation < semi2.last_motivation else semi2\n",
        "losers2 = semi3 if semi3.last_motivation < semi4.last_motivation else semi4\n",
        "\n",
        "# TODO: Imprimir os \"resultados\" dos confrontos realizados nas Semifinais:\n",
        "\n",
        "print(f'{semi1.name} ({semi1.last_motivation:.2f}) x {semi2.name} ({semi2.last_motivation:.2f})')\n",
        "print(f'{semi3.name} ({semi3.last_motivation:.2f}) x {semi4.name} ({semi4.last_motivation:.2f})')"
      ]
    },
    {
      "cell_type": "markdown",
      "metadata": {
        "id": "BUgLpU_DLWCX"
      },
      "source": [
        "## 7. Simulando a Final (2 melhores seleções)"
      ]
    },
    {
      "cell_type": "code",
      "execution_count": 257,
      "metadata": {
        "id": "HbXxH9KbLWLq"
      },
      "outputs": [
        {
          "name": "stdout",
          "output_type": "stream",
          "text": [
            "GRANDE FINAL - BRA (89.83) x POR (70.37)\n",
            "TERCEIRO LUGAR - IRA (77.89) x ING (92.66)\n",
            "1º - BRA\n",
            "2º - POR\n",
            "3º - ING\n",
            "4º - IRA\n"
          ]
        }
      ],
      "source": [
        "# TODO: Simular os confrontos das Finais (randomizando novamente suas respectivas motivações).\n",
        "#       Além disso, também definir os 4 primeiros colocamos da Copa do Mundo de 2022:\n",
        "\n",
        "champion = final1 if final1.motivate() > final2.motivate() else final2\n",
        "second = final1 if final1.last_motivation < final2.last_motivation else final2\n",
        "third = losers1 if losers1.motivate() > losers2.motivate() else losers2\n",
        "fourth = losers1 if losers1.last_motivation < losers2.last_motivation else losers2\n",
        "\n",
        "# TODO: Imprimir os \"resultados\" dos confrontos realizados nas Finais:\n",
        "\n",
        "print(f'GRANDE FINAL - {final1.name} ({final1.last_motivation:.2f}) x {final2.name} ({final2.last_motivation:.2f})')\n",
        "print(f'TERCEIRO LUGAR - {losers1.name} ({losers1.last_motivation:.2f}) x {losers2.name} ({losers2.last_motivation:.2f})')\n",
        "\n",
        "print(f'1º - {champion.name}\\n2º - {second.name}\\n3º - {third.name}\\n4º - {fourth.name}')\n"
      ]
    }
  ],
  "metadata": {
    "colab": {
      "collapsed_sections": [],
      "provenance": []
    },
    "kernelspec": {
      "display_name": "Python 3.10.4 64-bit",
      "language": "python",
      "name": "python3"
    },
    "language_info": {
      "codemirror_mode": {
        "name": "ipython",
        "version": 3
      },
      "file_extension": ".py",
      "mimetype": "text/x-python",
      "name": "python",
      "nbconvert_exporter": "python",
      "pygments_lexer": "ipython3",
      "version": "3.10.4"
    },
    "vscode": {
      "interpreter": {
        "hash": "916dbcbb3f70747c44a77c7bcd40155683ae19c65e1c03b4aa3499c5328201f1"
      }
    }
  },
  "nbformat": 4,
  "nbformat_minor": 0
}
